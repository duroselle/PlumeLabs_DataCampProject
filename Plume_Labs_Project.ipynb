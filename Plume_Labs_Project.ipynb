{
 "cells": [
  {
   "cell_type": "markdown",
   "metadata": {},
   "source": [
    "## Predicting Street Level Air Pollution in French cities\n",
    "\n",
    "### Problem Statement\n",
    "Air pollution is nowadays a major issue not only in countries such as China or India but also in developed countries. The World Health Organization estimate on the number of death due to poor air quality is close to 8 million (both indoor and outdoor) worldwide whereas the European Environmental Agency counted almost 450 000 premature deaths in Europe with the same cause. \n",
    "\n",
    "To monitor air quality, institutions and agencies are focusing on four main pollutants : \n",
    "- ozone (O3), \n",
    "- nitrogen dioxide (NO2),\n",
    "- particulate matter with diameter below 2.5 μm (PM2.5),\n",
    "- particulate matter with diameter below 10 μm (PM10).\n",
    "\n",
    "Although regulated by national and European standards, evaluation of one's real exposure to air pollution at the street level is still a challenge today. Air quality monitoring is performed with expensive reference instruments (ideally) disseminated at strategic locations within the cities. However, because of pollutants' heterogeneity in terms of sources, volatility and chemical reactivity, pollutant concentrations can vary widely between very close areas and thus, one's exposure can vary accordingly.\n",
    "\n",
    "\n",
    "### Introduction to Plume Labs\n",
    "Plume Labs (http://www.plumelabs.com) is a French start-up which aims, through the use of open data, to provide to citizens information on their exposure to air pollution. This information is already available today for an increasing number of megalopolis through mobile applications, but the final goal of Plume Labs is to provide pollution levels at any point on the globe. To achieve this, physical models as well as artificial intelligence tools are used concurrently. \n",
    "\n",
    "We propose to predict the air quality level at the street level in several French cities. To reach this goal, we rely on an increasingly popular model in the atmospheric science community called **land use regression model (LURM)**. By using relevant parameters based on the land-use (e.g., the surface occupied by residential buildings within a given perimeter), as well as meteorological ones, matched with the monitoring station readings, it's possible to build a statistical model to predict air quality levels. Such models can then be used at other locations within the cities to construct a street-level air pollution map. Examples can be seen in the scientific literature :\n",
    "\n",
    "http://www.sciencedirect.com/science/article/pii/S1877705815016331\n",
    "\n",
    "http://www.sciencedirect.com/science/article/pii/S001393511530178X\n",
    "\n",
    "### Objectives\n",
    "The goal of the challenge is to predict three pollutants' (NO2, PM2_5, PM10) concentrations at the location of monitoring stations in several cities and at given time periods by focusing the training algorithms on :\n",
    "- the regular structure of the time series (strong daily and seasonal cycles)\n",
    "- the correlation between pollution and meteorology (temperature, precipitations,...)\n",
    "- the correlation with static factors (e.g., length of roads within a buffer of x meters, density of residential/industrial/... buildings, see below for a complete description of the dataset)"
   ]
  },
  {
   "cell_type": "markdown",
   "metadata": {},
   "source": [
    "### Requirements\n",
    "\n",
    "* numpy>=1.10.0  \n",
    "* matplotlib>=1.5.0  \n",
    "* pandas>=0.17.0  \n",
    "* scikit-learn>=0.17 (different syntaxes for v0.17 and v0.18)  "
   ]
  },
  {
   "cell_type": "markdown",
   "metadata": {},
   "source": [
    "### Data Description\n",
    "Data sets are provided in CSV files. \n",
    "\n",
    "#### Train datasets\n",
    "\n",
    "In the Xtrain dataset, we provide :\n",
    "- ID: row ID of the dataset (from 0 to 448168)\n",
    "- daytime: arbitrary value which describe the order in time, on an hourly basis, of the data\n",
    "- zone_id: values range from 0 to 5 and describe a given city\n",
    "- station_id: values are included in [ 16., 17., 20., 1., 18., 22., 26., 28., 6., 9., 25., 4., 10., 23., 5., 8., 11.]. A station is related to a given zone_id, several stations can be related to one city.\n",
    "- pollutant name\n",
    "- is_calmday (boolean): information on the type of day - basically discriminate week/week-end days and public holidays\n",
    "- meteorological parameters:\n",
    "    - temperature (double)\n",
    "    - windspeed (double)\n",
    "    - windbearing_cos (double)\n",
    "    - windbearing_sin (double)\n",
    "    - cloudcover (double)\n",
    "    - precipitations_intensity (double)\n",
    "    - precipitations_probability (double)\n",
    "    - pressure (double)\n",
    "- Static variables: A buffer is a circle with a given diameter drawn around a position. As an example, HLRES_50 is the cumulated surface of High density residential land within a 50 m diameter circle.\n",
    "    - HLRES: High density residential land (m2) - buffer of 50,100,300,500,1000 m\n",
    "    - HLDRES: HLRES +Low density residential land (m2) - buffer of 50,100,300,500,1000 m\n",
    "    - INDUSTRY: Industry land (m2) - buffer of 1000 m\n",
    "    - PORT: Port land (m2) - buffer of 5000 m\n",
    "    - NATURAL: Semi-natural and forested land (m2) - buffer of 5000 m\n",
    "    - GREEN: urban parks and green areas + NATURAL (m2) - buffer of 5000 m\n",
    "    - ROUTE: cumulated road distances within the buffer (m) - buffer of 100, 300, 500, 1000m\n",
    "    - ROADINVDIST: inverse of distance between the station and the nearest road (1/m)\n",
    "Important: when no data is provided, it means that:\n",
    "- No land use is encompassed within the buffer for land use data\n",
    "- No data is available for meteorological parameters\n",
    "\n",
    "The Ytrain dataset is composed of:\n",
    "- ID: row ID to match the Xtrain dataset\n",
    "- TARGET: pollutant concentration in μg/m3TEST SET:\n",
    "\n",
    "#### Test datasets\n",
    "In the Xtest dataset, we have:\n",
    "- pollutant name\n",
    "- meteorological parameters: same description and values as in Xtrain\n",
    "- zone_id (same as in Xtrain)\n",
    "- station_id, included in [ 21., 27., 1., 29., 15., 12., 14., 0., 3., 2., 13., 19.] - values are different from Xtrain, meaning that station are not the same as these used in Xtrain\n",
    "- static variables: same description but different values vs Xtrain\n",
    "- daytime: same description and values as in Xtrain\n",
    "- is_calmday\n",
    "\n",
    "Our goal is to provide a Ytest dataset with 2 columns:\n",
    "- ID: row ID which match the Xtest row IDs\n",
    "- TARGET: results of the model for the given rows"
   ]
  },
  {
   "cell_type": "code",
   "execution_count": null,
   "metadata": {
    "collapsed": true
   },
   "outputs": [],
   "source": [
    "data = pd.read_csv('public_train.csv.gz', compression='gzip')\n",
    "X_df = data.drop(['isSkewed'], axis=1)\n",
    "Y_df = data[['isSkewed']]"
   ]
  },
  {
   "cell_type": "code",
   "execution_count": null,
   "metadata": {
    "collapsed": true
   },
   "outputs": [],
   "source": []
  }
 ],
 "metadata": {
  "anaconda-cloud": {},
  "kernelspec": {
   "display_name": "Python [conda env:py27]",
   "language": "python",
   "name": "conda-env-py27-py"
  },
  "language_info": {
   "codemirror_mode": {
    "name": "ipython",
    "version": 2
   },
   "file_extension": ".py",
   "mimetype": "text/x-python",
   "name": "python",
   "nbconvert_exporter": "python",
   "pygments_lexer": "ipython2",
   "version": "2.7.13"
  }
 },
 "nbformat": 4,
 "nbformat_minor": 2
}
