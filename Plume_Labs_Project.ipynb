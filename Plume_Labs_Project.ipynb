{
 "cells": [
  {
   "cell_type": "markdown",
   "metadata": {},
   "source": [
    "## Predicting Street Level Air Pollution in French cities\n",
    "\n",
    "### Problem Statement\n",
    "Air pollution is nowadays a major issue not only in countries such as China or India but also in developed countries. The World Health Organization estimate on the number of death due to poor air quality is close to 8 million (both indoor and outdoor) worldwide whereas the European Environmental Agency counted almost 450 000 premature deaths in Europe with the same cause. \n",
    "\n",
    "To monitor air quality, institutions and agencies are focusing on four main pollutants : \n",
    "- ozone (O3), \n",
    "- nitrogen dioxide (NO2),\n",
    "- particulate matter with diameter below 2.5 μm (PM2.5),\n",
    "- particulate matter with diameter below 10 μm (PM10).\n",
    "\n",
    "Although regulated by national and European standards, evaluation of one's real exposure to air pollution at the street level is still a challenge today. Air quality monitoring is performed with expensive reference instruments (ideally) disseminated at strategic locations within the cities. However, because of pollutants' heterogeneity in terms of sources, volatility and chemical reactivity, pollutant concentrations can vary widely between very close areas and thus, one's exposure can vary accordingly.\n",
    "\n",
    "\n",
    "### Introduction to Plume Labs\n",
    "Plume Labs (http://www.plumelabs.com) is a French start-up which aims, through the use of open data, to provide to citizens information on their exposure to air pollution. This information is already available today for an increasing number of megalopolis through mobile applications, but the final goal of Plume Labs is to provide pollution levels at any point on the globe. To achieve this, physical models as well as artificial intelligence tools are used concurrently. \n",
    "\n",
    "We propose to predict the air quality level at the street level in several French cities. To reach this goal, we rely on an increasingly popular model in the atmospheric science community called **land use regression model (LURM)**. By using relevant parameters based on the land-use (e.g., the surface occupied by residential buildings within a given perimeter), as well as meteorological ones, matched with the monitoring station readings, it's possible to build a statistical model to predict air quality levels. Such models can then be used at other locations within the cities to construct a street-level air pollution map. Examples can be seen in the scientific literature :\n",
    "\n",
    "http://www.sciencedirect.com/science/article/pii/S1877705815016331\n",
    "\n",
    "http://www.sciencedirect.com/science/article/pii/S001393511530178X\n",
    "\n",
    "### Objectives\n",
    "The goal of the challenge is to predict three pollutants' (NO2, PM2_5, PM10) concentrations at the location of monitoring stations in several cities and at given time periods by focusing the training algorithms on :\n",
    "- the regular structure of the time series (strong daily and seasonal cycles)\n",
    "- the correlation between pollution and meteorology (temperature, precipitations,...)\n",
    "- the correlation with static factors (e.g., length of roads within a buffer of x meters, density of residential/industrial/... buildings, see below for a complete description of the dataset)"
   ]
  },
  {
   "cell_type": "markdown",
   "metadata": {},
   "source": [
    "### Requirements\n",
    "\n",
    "* numpy>=1.10.0  \n",
    "* matplotlib>=1.5.0  \n",
    "* pandas>=0.17.0  \n",
    "* scikit-learn>=0.17 (different syntaxes for v0.17 and v0.18)  "
   ]
  },
  {
   "cell_type": "code",
   "execution_count": 64,
   "metadata": {
    "collapsed": true
   },
   "outputs": [],
   "source": [
    "from __future__ import division, print_function\n",
    "import os\n",
    "import sys\n",
    "import glob\n",
    "\n",
    "import numpy as np\n",
    "import pandas as pd\n",
    "import matplotlib.pyplot as plt\n",
    "\n",
    "%matplotlib inline\n",
    "\n",
    "pd.set_option('display.max_columns', None)"
   ]
  },
  {
   "cell_type": "markdown",
   "metadata": {},
   "source": [
    "### Feature Description\n",
    "Data sets are provided in CSV files, which we will import with pandas."
   ]
  },
  {
   "cell_type": "code",
   "execution_count": 3,
   "metadata": {
    "collapsed": true
   },
   "outputs": [],
   "source": [
    "X_train = pd.read_csv('X_train.csv')\n",
    "Y_train = pd.read_csv('Y_train.csv')"
   ]
  },
  {
   "cell_type": "markdown",
   "metadata": {},
   "source": [
    "### X_train dataset"
   ]
  },
  {
   "cell_type": "code",
   "execution_count": 55,
   "metadata": {
    "collapsed": false
   },
   "outputs": [
    {
     "data": {
      "text/html": [
       "<div>\n",
       "<table border=\"1\" class=\"dataframe\">\n",
       "  <thead>\n",
       "    <tr style=\"text-align: right;\">\n",
       "      <th></th>\n",
       "      <th>ID</th>\n",
       "      <th>hlres_50</th>\n",
       "      <th>green_5000</th>\n",
       "      <th>hldres_50</th>\n",
       "      <th>daytime</th>\n",
       "      <th>route_100</th>\n",
       "      <th>precipintensity</th>\n",
       "      <th>precipprobability</th>\n",
       "      <th>hlres_1000</th>\n",
       "      <th>temperature</th>\n",
       "      <th>is_calmday</th>\n",
       "      <th>route_1000</th>\n",
       "      <th>roadinvdist</th>\n",
       "      <th>port_5000</th>\n",
       "      <th>windbearingsin</th>\n",
       "      <th>cloudcover</th>\n",
       "      <th>hldres_100</th>\n",
       "      <th>natural_5000</th>\n",
       "      <th>hlres_300</th>\n",
       "      <th>hldres_300</th>\n",
       "      <th>route_300</th>\n",
       "      <th>station_id</th>\n",
       "      <th>pressure</th>\n",
       "      <th>route_500</th>\n",
       "      <th>hlres_500</th>\n",
       "      <th>hlres_100</th>\n",
       "      <th>pollutant</th>\n",
       "      <th>industry_1000</th>\n",
       "      <th>zone_id</th>\n",
       "      <th>windbearingcos</th>\n",
       "      <th>windspeed</th>\n",
       "      <th>hldres_500</th>\n",
       "      <th>hldres_1000</th>\n",
       "    </tr>\n",
       "  </thead>\n",
       "  <tbody>\n",
       "    <tr>\n",
       "      <th>0</th>\n",
       "      <td>0</td>\n",
       "      <td>NaN</td>\n",
       "      <td>5172542.5</td>\n",
       "      <td>3755.19043</td>\n",
       "      <td>72.0</td>\n",
       "      <td>NaN</td>\n",
       "      <td>0.6096</td>\n",
       "      <td>0.61</td>\n",
       "      <td>NaN</td>\n",
       "      <td>9.49</td>\n",
       "      <td>False</td>\n",
       "      <td>8027.166504</td>\n",
       "      <td>0.04678</td>\n",
       "      <td>NaN</td>\n",
       "      <td>-0.587785</td>\n",
       "      <td>1.00</td>\n",
       "      <td>13612.243164</td>\n",
       "      <td>5172542.5</td>\n",
       "      <td>NaN</td>\n",
       "      <td>114993.5625</td>\n",
       "      <td>NaN</td>\n",
       "      <td>16.0</td>\n",
       "      <td>1029.349976</td>\n",
       "      <td>NaN</td>\n",
       "      <td>NaN</td>\n",
       "      <td>NaN</td>\n",
       "      <td>NO2</td>\n",
       "      <td>NaN</td>\n",
       "      <td>0.0</td>\n",
       "      <td>0.809017</td>\n",
       "      <td>6.55</td>\n",
       "      <td>357436.1875</td>\n",
       "      <td>1542650.0</td>\n",
       "    </tr>\n",
       "    <tr>\n",
       "      <th>1</th>\n",
       "      <td>1</td>\n",
       "      <td>NaN</td>\n",
       "      <td>5172542.5</td>\n",
       "      <td>3755.19043</td>\n",
       "      <td>72.0</td>\n",
       "      <td>NaN</td>\n",
       "      <td>0.6096</td>\n",
       "      <td>0.61</td>\n",
       "      <td>NaN</td>\n",
       "      <td>9.49</td>\n",
       "      <td>False</td>\n",
       "      <td>8027.166504</td>\n",
       "      <td>0.04678</td>\n",
       "      <td>NaN</td>\n",
       "      <td>-0.587785</td>\n",
       "      <td>1.00</td>\n",
       "      <td>13612.243164</td>\n",
       "      <td>5172542.5</td>\n",
       "      <td>NaN</td>\n",
       "      <td>114993.5625</td>\n",
       "      <td>NaN</td>\n",
       "      <td>16.0</td>\n",
       "      <td>1029.349976</td>\n",
       "      <td>NaN</td>\n",
       "      <td>NaN</td>\n",
       "      <td>NaN</td>\n",
       "      <td>PM10</td>\n",
       "      <td>NaN</td>\n",
       "      <td>0.0</td>\n",
       "      <td>0.809017</td>\n",
       "      <td>6.55</td>\n",
       "      <td>357436.1875</td>\n",
       "      <td>1542650.0</td>\n",
       "    </tr>\n",
       "    <tr>\n",
       "      <th>2</th>\n",
       "      <td>2</td>\n",
       "      <td>NaN</td>\n",
       "      <td>5172542.5</td>\n",
       "      <td>3755.19043</td>\n",
       "      <td>73.0</td>\n",
       "      <td>NaN</td>\n",
       "      <td>0.0965</td>\n",
       "      <td>0.14</td>\n",
       "      <td>NaN</td>\n",
       "      <td>8.22</td>\n",
       "      <td>False</td>\n",
       "      <td>8027.166504</td>\n",
       "      <td>0.04678</td>\n",
       "      <td>NaN</td>\n",
       "      <td>-0.069756</td>\n",
       "      <td>1.00</td>\n",
       "      <td>13612.243164</td>\n",
       "      <td>5172542.5</td>\n",
       "      <td>NaN</td>\n",
       "      <td>114993.5625</td>\n",
       "      <td>NaN</td>\n",
       "      <td>16.0</td>\n",
       "      <td>1029.560059</td>\n",
       "      <td>NaN</td>\n",
       "      <td>NaN</td>\n",
       "      <td>NaN</td>\n",
       "      <td>NO2</td>\n",
       "      <td>NaN</td>\n",
       "      <td>0.0</td>\n",
       "      <td>0.997564</td>\n",
       "      <td>4.47</td>\n",
       "      <td>357436.1875</td>\n",
       "      <td>1542650.0</td>\n",
       "    </tr>\n",
       "    <tr>\n",
       "      <th>3</th>\n",
       "      <td>3</td>\n",
       "      <td>NaN</td>\n",
       "      <td>5172542.5</td>\n",
       "      <td>3755.19043</td>\n",
       "      <td>73.0</td>\n",
       "      <td>NaN</td>\n",
       "      <td>0.0965</td>\n",
       "      <td>0.14</td>\n",
       "      <td>NaN</td>\n",
       "      <td>8.22</td>\n",
       "      <td>False</td>\n",
       "      <td>8027.166504</td>\n",
       "      <td>0.04678</td>\n",
       "      <td>NaN</td>\n",
       "      <td>-0.069756</td>\n",
       "      <td>1.00</td>\n",
       "      <td>13612.243164</td>\n",
       "      <td>5172542.5</td>\n",
       "      <td>NaN</td>\n",
       "      <td>114993.5625</td>\n",
       "      <td>NaN</td>\n",
       "      <td>16.0</td>\n",
       "      <td>1029.560059</td>\n",
       "      <td>NaN</td>\n",
       "      <td>NaN</td>\n",
       "      <td>NaN</td>\n",
       "      <td>PM10</td>\n",
       "      <td>NaN</td>\n",
       "      <td>0.0</td>\n",
       "      <td>0.997564</td>\n",
       "      <td>4.47</td>\n",
       "      <td>357436.1875</td>\n",
       "      <td>1542650.0</td>\n",
       "    </tr>\n",
       "    <tr>\n",
       "      <th>4</th>\n",
       "      <td>4</td>\n",
       "      <td>NaN</td>\n",
       "      <td>5172542.5</td>\n",
       "      <td>3755.19043</td>\n",
       "      <td>74.0</td>\n",
       "      <td>NaN</td>\n",
       "      <td>0.0000</td>\n",
       "      <td>0.00</td>\n",
       "      <td>NaN</td>\n",
       "      <td>7.58</td>\n",
       "      <td>False</td>\n",
       "      <td>8027.166504</td>\n",
       "      <td>0.04678</td>\n",
       "      <td>NaN</td>\n",
       "      <td>-0.104528</td>\n",
       "      <td>0.97</td>\n",
       "      <td>13612.243164</td>\n",
       "      <td>5172542.5</td>\n",
       "      <td>NaN</td>\n",
       "      <td>114993.5625</td>\n",
       "      <td>NaN</td>\n",
       "      <td>16.0</td>\n",
       "      <td>1029.660034</td>\n",
       "      <td>NaN</td>\n",
       "      <td>NaN</td>\n",
       "      <td>NaN</td>\n",
       "      <td>NO2</td>\n",
       "      <td>NaN</td>\n",
       "      <td>0.0</td>\n",
       "      <td>0.994522</td>\n",
       "      <td>4.11</td>\n",
       "      <td>357436.1875</td>\n",
       "      <td>1542650.0</td>\n",
       "    </tr>\n",
       "  </tbody>\n",
       "</table>\n",
       "</div>"
      ],
      "text/plain": [
       "   ID  hlres_50  green_5000   hldres_50  daytime  route_100  precipintensity  \\\n",
       "0   0       NaN   5172542.5  3755.19043     72.0        NaN           0.6096   \n",
       "1   1       NaN   5172542.5  3755.19043     72.0        NaN           0.6096   \n",
       "2   2       NaN   5172542.5  3755.19043     73.0        NaN           0.0965   \n",
       "3   3       NaN   5172542.5  3755.19043     73.0        NaN           0.0965   \n",
       "4   4       NaN   5172542.5  3755.19043     74.0        NaN           0.0000   \n",
       "\n",
       "   precipprobability  hlres_1000  temperature is_calmday   route_1000  \\\n",
       "0               0.61         NaN         9.49      False  8027.166504   \n",
       "1               0.61         NaN         9.49      False  8027.166504   \n",
       "2               0.14         NaN         8.22      False  8027.166504   \n",
       "3               0.14         NaN         8.22      False  8027.166504   \n",
       "4               0.00         NaN         7.58      False  8027.166504   \n",
       "\n",
       "   roadinvdist  port_5000  windbearingsin  cloudcover    hldres_100  \\\n",
       "0      0.04678        NaN       -0.587785        1.00  13612.243164   \n",
       "1      0.04678        NaN       -0.587785        1.00  13612.243164   \n",
       "2      0.04678        NaN       -0.069756        1.00  13612.243164   \n",
       "3      0.04678        NaN       -0.069756        1.00  13612.243164   \n",
       "4      0.04678        NaN       -0.104528        0.97  13612.243164   \n",
       "\n",
       "   natural_5000  hlres_300   hldres_300  route_300  station_id     pressure  \\\n",
       "0     5172542.5        NaN  114993.5625        NaN        16.0  1029.349976   \n",
       "1     5172542.5        NaN  114993.5625        NaN        16.0  1029.349976   \n",
       "2     5172542.5        NaN  114993.5625        NaN        16.0  1029.560059   \n",
       "3     5172542.5        NaN  114993.5625        NaN        16.0  1029.560059   \n",
       "4     5172542.5        NaN  114993.5625        NaN        16.0  1029.660034   \n",
       "\n",
       "   route_500  hlres_500  hlres_100 pollutant  industry_1000  zone_id  \\\n",
       "0        NaN        NaN        NaN       NO2            NaN      0.0   \n",
       "1        NaN        NaN        NaN      PM10            NaN      0.0   \n",
       "2        NaN        NaN        NaN       NO2            NaN      0.0   \n",
       "3        NaN        NaN        NaN      PM10            NaN      0.0   \n",
       "4        NaN        NaN        NaN       NO2            NaN      0.0   \n",
       "\n",
       "   windbearingcos  windspeed   hldres_500  hldres_1000  \n",
       "0        0.809017       6.55  357436.1875    1542650.0  \n",
       "1        0.809017       6.55  357436.1875    1542650.0  \n",
       "2        0.997564       4.47  357436.1875    1542650.0  \n",
       "3        0.997564       4.47  357436.1875    1542650.0  \n",
       "4        0.994522       4.11  357436.1875    1542650.0  "
      ]
     },
     "execution_count": 55,
     "metadata": {},
     "output_type": "execute_result"
    }
   ],
   "source": [
    "X_train.head()"
   ]
  },
  {
   "cell_type": "markdown",
   "metadata": {},
   "source": [
    "#### X_train dataset features\n",
    "- ID: row ID of the dataset (from 0 to 448168)\n",
    "- daytime: arbitrary value which describe the order in time, on an hourly basis, of the data\n",
    "- zone_id: values range from 0 to 5 and describe a given city\n",
    "- station_id: values are included in [ 16., 17., 20., 1., 18., 22., 26., 28., 6., 9., 25., 4., 10., 23., 5., 8., 11.]. A station is related to a given zone_id, several stations can be related to one city.\n",
    "- pollutant name\n",
    "- is_calmday (boolean): information on the type of day - basically discriminate week/week-end days and public holidays\n",
    "- meteorological parameters:\n",
    "    - temperature (double)\n",
    "    - windspeed (double)\n",
    "    - windbearing_cos (double)\n",
    "    - windbearing_sin (double)\n",
    "    - cloudcover (double)\n",
    "    - precipitations_intensity (double)\n",
    "    - precipitations_probability (double)\n",
    "    - pressure (double)\n",
    "- static variables: A buffer is a circle with a given diameter drawn around a position. As an example, HLRES_50 is the cumulated surface of High density residential land within a 50 m diameter circle.\n",
    "    - HLRES: High density residential land (m2) - buffer of 50,100,300,500,1000 m\n",
    "    - HLDRES: HLRES +Low density residential land (m2) - buffer of 50,100,300,500,1000 m\n",
    "    - INDUSTRY: Industry land (m2) - buffer of 1000 m\n",
    "    - PORT: Port land (m2) - buffer of 5000 m\n",
    "    - NATURAL: Semi-natural and forested land (m2) - buffer of 5000 m\n",
    "    - GREEN: urban parks and green areas + NATURAL (m2) - buffer of 5000 m\n",
    "    - ROUTE: cumulated road distances within the buffer (m) - buffer of 100, 300, 500, 1000m\n",
    "    - ROADINVDIST: inverse of distance between the station and the nearest road (1/m)\n",
    "    \n",
    "    \n",
    "Important: when no data is provided, it means that:\n",
    "- No land use is encompassed within the buffer for land use data\n",
    "- No data is available for meteorological parameters\n",
    "\n",
    "### Y_train dataset"
   ]
  },
  {
   "cell_type": "code",
   "execution_count": 5,
   "metadata": {
    "collapsed": false
   },
   "outputs": [
    {
     "data": {
      "text/html": [
       "<div>\n",
       "<table border=\"1\" class=\"dataframe\">\n",
       "  <thead>\n",
       "    <tr style=\"text-align: right;\">\n",
       "      <th></th>\n",
       "      <th>ID</th>\n",
       "      <th>TARGET</th>\n",
       "    </tr>\n",
       "  </thead>\n",
       "  <tbody>\n",
       "    <tr>\n",
       "      <th>0</th>\n",
       "      <td>0</td>\n",
       "      <td>43.0</td>\n",
       "    </tr>\n",
       "    <tr>\n",
       "      <th>1</th>\n",
       "      <td>1</td>\n",
       "      <td>21.0</td>\n",
       "    </tr>\n",
       "    <tr>\n",
       "      <th>2</th>\n",
       "      <td>2</td>\n",
       "      <td>9.0</td>\n",
       "    </tr>\n",
       "    <tr>\n",
       "      <th>3</th>\n",
       "      <td>3</td>\n",
       "      <td>22.0</td>\n",
       "    </tr>\n",
       "    <tr>\n",
       "      <th>4</th>\n",
       "      <td>4</td>\n",
       "      <td>6.0</td>\n",
       "    </tr>\n",
       "  </tbody>\n",
       "</table>\n",
       "</div>"
      ],
      "text/plain": [
       "   ID  TARGET\n",
       "0   0    43.0\n",
       "1   1    21.0\n",
       "2   2     9.0\n",
       "3   3    22.0\n",
       "4   4     6.0"
      ]
     },
     "execution_count": 5,
     "metadata": {},
     "output_type": "execute_result"
    }
   ],
   "source": [
    "Y_train.head()"
   ]
  },
  {
   "cell_type": "markdown",
   "metadata": {},
   "source": [
    "#### Y_train dataset columns\n",
    "- ID: row ID to match the Xtrain dataset\n",
    "- TARGET: pollutant concentration in μg/m3"
   ]
  },
  {
   "cell_type": "code",
   "execution_count": 12,
   "metadata": {
    "collapsed": false
   },
   "outputs": [
    {
     "data": {
      "text/plain": [
       "count    448169.000000\n",
       "mean         20.286938\n",
       "std          16.520396\n",
       "min           1.487314\n",
       "25%           9.000000\n",
       "50%          16.000000\n",
       "75%          27.000000\n",
       "max         985.000000\n",
       "Name: TARGET, dtype: float64"
      ]
     },
     "execution_count": 12,
     "metadata": {},
     "output_type": "execute_result"
    }
   ],
   "source": [
    "Y_train.describe()['TARGET']"
   ]
  },
  {
   "cell_type": "markdown",
   "metadata": {},
   "source": [
    "### Visualizing data for first week"
   ]
  },
  {
   "cell_type": "code",
   "execution_count": 61,
   "metadata": {
    "collapsed": false
   },
   "outputs": [
    {
     "data": {
      "image/png": "[encoded data removed]",
      "text/plain": [
       "<matplotlib.figure.Figure at 0x7fd844396750>"
      ]
     },
     "metadata": {},
     "output_type": "display_data"
    }
   ],
   "source": [
    "# Look at TARGET on first 7*24 hours, Station 4, Pollutant = NO2 and PM10\n",
    "n = 24*7\n",
    "y_NO2 = Y_train[Y_train['ID'].isin(list(X_train[(X_train['daytime']<n) & (X_train['station_id']==4.0) & (X_train['pollutant'] == 'NO2')]['ID']))]['TARGET']\n",
    "y_PM10 = Y_train[Y_train['ID'].isin(list(X_train[(X_train['daytime']<n) & (X_train['station_id']==4.0) & (X_train['pollutant'] == 'PM10')]['ID']))]['TARGET']\n",
    "hour = np.arange(1,n+1,1)\n",
    "\n",
    "\n",
    "plt.subplot(211)\n",
    "plt.title('Pollutant levels on Week 1, Station 4')\n",
    "plt.plot(hour, y_NO2, 'red', label=\"NO2\")\n",
    "plt.axis([1, n, 0, 45])\n",
    "plt.legend()\n",
    "plt.subplot(212)\n",
    "plt.plot(hour, y_PM10, 'blue', label=\"PM10\")\n",
    "plt.legend()\n",
    "plt.axis([1, n, 0, 45])\n",
    "plt.show()"
   ]
  },
  {
   "cell_type": "markdown",
   "metadata": {},
   "source": [
    "### Test datasets\n",
    "Note that in the test dataset, there may be data from stations that do not appear in the train dataset.\n",
    "\n",
    "Our goal is to provide a Ytest dataset with 2 columns:\n",
    "- ID: row ID which match the Xtest row IDs\n",
    "- TARGET: results of the model for the given rows"
   ]
  },
  {
   "cell_type": "code",
   "execution_count": 62,
   "metadata": {
    "collapsed": true
   },
   "outputs": [],
   "source": [
    "X_test = pd.read_csv('X_test.csv')"
   ]
  },
  {
   "cell_type": "markdown",
   "metadata": {},
   "source": [
    "## Prediction model \n",
    "We are going to follow the scikit-learn API specs in order to define a `FeatureExtractor` and a `Regressor`."
   ]
  },
  {
   "cell_type": "markdown",
   "metadata": {},
   "source": [
    "## The feature extractor\n",
    "\n",
    "In <code>feature_extractor.py</code> you will define a class called <code>FeatureExtractor</code>. Its main <code>transform</code> method takes a pandas <b>DataFrame</b> and outputs a <b>numpy array</b>.\n",
    "\n",
    "- The `FeatureExtractor` inherits from `TransformerMixin`.\n",
    "- It implements a `fit` (optional) and a `transform` method. "
   ]
  },
  {
   "cell_type": "code",
   "execution_count": 70,
   "metadata": {
    "collapsed": true
   },
   "outputs": [],
   "source": [
    "# insert Frapy's feat extractor\n",
    "import pandas as pd\n",
    "from sklearn.base import TransformerMixin\n",
    "\n",
    "\n",
    "class FeatureExtractor(TransformerMixin):\n",
    "\n",
    "    def __init__(self):\n",
    "        pass\n",
    "\n",
    "    def fit(self, X_df, y):\n",
    "        return self\n",
    "\n",
    "    def transform(self, X_df):\n",
    "        X_df_ = pd.get_dummies(X_df, drop_first=False, columns=['pollutant'])\n",
    "        return X_df_.values"
   ]
  },
  {
   "cell_type": "markdown",
   "metadata": {},
   "source": [
    "## The regressor\n",
    "\n",
    "- The `Regressor` inherits from `BaseEstimator`,\n",
    "- The `__init__()` function initiates all of the arguments and configurations. \n",
    "- The regressor must implement a `fit()` and  a `predict()` function."
   ]
  },
  {
   "cell_type": "code",
   "execution_count": 71,
   "metadata": {
    "collapsed": true
   },
   "outputs": [],
   "source": [
    "# insert frapy's regressor\n",
    "\n",
    "from sklearn.base import BaseEstimator\n",
    "from sklearn.ensemble import ExtraTreesRegressor\n",
    "\n",
    "\n",
    "class Regressor(BaseEstimator):\n",
    "    def __init__(self):\n",
    "        self.reg = ExtraTreesRegressor(n_estimators=10)\n",
    "\n",
    "    def fit(self, X, y):\n",
    "        return self.reg.fit(X, y)\n",
    "\n",
    "    def predict(self, X):\n",
    "        return self.reg.predict(X)\n",
    "\n",
    "\n",
    "    def predict(self, X):\n",
    "        return self.reg.predict(X)"
   ]
  },
  {
   "cell_type": "markdown",
   "metadata": {},
   "source": [
    "## Unit testing\n",
    "\n",
    "Place the python file <code>regressor.py</code>, the data, and the <code>user_test_submission.py</code></a> in a directory and run \n",
    "\n",
    "<code>python user_test_submission.py</code>"
   ]
  },
  {
   "cell_type": "code",
   "execution_count": null,
   "metadata": {
    "collapsed": true
   },
   "outputs": [],
   "source": [
    "!python user_test_submission.py"
   ]
  }
 ],
 "metadata": {
  "anaconda-cloud": {},
  "kernelspec": {
   "display_name": "Python [conda env:py27]",
   "language": "python",
   "name": "conda-env-py27-py"
  },
  "language_info": {
   "codemirror_mode": {
    "name": "ipython",
    "version": 2
   },
   "file_extension": ".py",
   "mimetype": "text/x-python",
   "name": "python",
   "nbconvert_exporter": "python",
   "pygments_lexer": "ipython2",
   "version": "2.7.13"
  }
 },
 "nbformat": 4,
 "nbformat_minor": 2
}
